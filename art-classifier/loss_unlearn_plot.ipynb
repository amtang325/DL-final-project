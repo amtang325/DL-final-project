{
 "cells": [
  {
   "cell_type": "code",
   "execution_count": null,
   "id": "bf47476c",
   "metadata": {
    "vscode": {
     "languageId": "plaintext"
    }
   },
   "outputs": [],
   "source": [
    "import numpy as np\n",
    "import matplotlib.pyplot as plt\n",
    "\n",
    "cycle = [0,1,2,3,4]\n",
    "\n",
    "train_loss_forget = [NA, 105.1728, NA, 160.0022, NA]\n",
    "train_acc_forget = [NA, 0.1585, NA, 0.0340, NA]\n",
    "train_loss_retain = [NA, NA, 2.7896, NA, 4.6652]\n",
    "train_acc_retain = [NA, NA, 0.6954, NA, 0.6982]\n",
    "val_loss_forget = [1.3367, 120.9062, 2.1509, 159.2156, ]\n",
    "val_acc_forget = [0.5345, 0.1552, 0.4310, 0.0431, ]\n",
    "val_loss_retain = [0.9046, 56.7401, 1.0024, ]\n",
    "val_acc_retain = [0.6490, 0, 0.6492, ]"
   ]
  }
 ],
 "metadata": {
  "language_info": {
   "name": "python"
  }
 },
 "nbformat": 4,
 "nbformat_minor": 5
}
