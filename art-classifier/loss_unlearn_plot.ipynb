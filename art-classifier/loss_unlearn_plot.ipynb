{
 "cells": [
  {
   "cell_type": "code",
   "execution_count": null,
   "id": "bf47476c",
   "metadata": {
    "vscode": {
     "languageId": "plaintext"
    }
   },
   "outputs": [],
   "source": [
    "import numpy as np\n",
    "import matplotlib.pyplot as plt\n",
    "\n",
    "cycle = [0,1,2,3,4]\n",
    "\n",
    "train_loss_forget = [NA, ]\n",
    "train_acc_forget = [NA, ]\n",
    "train_loss_retain = [NA, ]\n",
    "train_acc_retain = [NA, ]\n",
    "val_loss_forget = []\n",
    "val_acc_forget = []\n",
    "val_loss_retain = []\n",
    "val_acc_retain = []"
   ]
  }
 ],
 "metadata": {
  "language_info": {
   "name": "python"
  }
 },
 "nbformat": 4,
 "nbformat_minor": 5
}
